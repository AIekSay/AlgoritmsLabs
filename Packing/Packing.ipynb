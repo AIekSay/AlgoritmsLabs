{
  "nbformat": 4,
  "nbformat_minor": 0,
  "metadata": {
    "colab": {
      "name": "Untitled6.ipynb",
      "provenance": [],
      "collapsed_sections": []
    },
    "kernelspec": {
      "name": "python3",
      "display_name": "Python 3"
    }
  },
  "cells": [
    {
      "cell_type": "code",
      "metadata": {
        "id": "HUHk_8DHUBbl",
        "colab_type": "code",
        "colab": {}
      },
      "source": [
        "import numpy as np"
      ],
      "execution_count": null,
      "outputs": []
    },
    {
      "cell_type": "code",
      "metadata": {
        "id": "vH7O-_d7NRa6",
        "colab_type": "code",
        "colab": {}
      },
      "source": [
        "def Dijkstra(N, S, matrix):\n",
        "\tvalid = [True]*N        \n",
        "\tweight = [100000]*N\n",
        "\tweight[S] = 0\n",
        "\ti=0\n",
        "\tp=N\n",
        "\twhile(i<p):\n",
        "\t\tmin_weight = 100001\n",
        "\t\tID_min_weight = -1\n",
        "\t\tfor j in range(N):\n",
        "\t\t\tif valid[j] and weight[j] < min_weight:\n",
        "\t\t\t\tmin_weight = weight[j]\n",
        "\t\t\t\tID_min_weight = j\n",
        "\t\tfor z in range(N):\n",
        "\t\t\told_weight = weight[z]\n",
        "\t\t\tif matrix[ID_min_weight,z]!=100000 and weight[z]<100000:\n",
        "\t\t\t\tweight[z] = max(weight[ID_min_weight] + matrix[ID_min_weight,z], weight[z])\n",
        "\t\t\telif matrix[ID_min_weight,z]!=100000 and weight[z]>=100000:\n",
        "\t\t\t\tweight[z] = weight[ID_min_weight] + matrix[ID_min_weight,z]\n",
        "\t\t\tif (not valid[z]) and old_weight != weight[z]:\n",
        "\t\t\t\tvalid[z] = True\n",
        "\t\t\t\tp+=1\n",
        "\t\ti+=1\n",
        "\n",
        "\t\tvalid[ID_min_weight] = False\n",
        "\treturn weight"
      ],
      "execution_count": null,
      "outputs": []
    },
    {
      "cell_type": "code",
      "metadata": {
        "id": "jxRFoXzJkvWf",
        "colab_type": "code",
        "colab": {}
      },
      "source": [
        "def TransToGraphMatrix(rows ,cols , matrix):\n",
        "  graphMatrix = np.matrix([[100000 for l in range(rows*cols)] for y in range(rows*cols)])\n",
        "  for i in range(rows-1):\n",
        "    for j in range(cols-1):\n",
        "      graphMatrix[(i*cols)+j, (i*cols)+j+1] = matrix[i, j+1]\n",
        "      graphMatrix[(i*cols)+j, (i*cols)+j+cols] = matrix[i+1, j]\n",
        "\n",
        "  for i in range(1,rows):\n",
        "    graphMatrix[i*cols-1, (i+1)*cols-1] = matrix[i, cols-1]\n",
        "  for i in range(0,cols - 1):\n",
        "    graphMatrix[(rows-1) * cols + i, (rows-1) * cols + i + 1] = matrix[rows-1, i+1]\n",
        "  for i in range(0, cols*rows):\n",
        "    graphMatrix[i,i] = 0\n",
        "  return graphMatrix;\n",
        " \n"
      ],
      "execution_count": null,
      "outputs": []
    },
    {
      "cell_type": "code",
      "metadata": {
        "id": "bAUsONmZPVg6",
        "colab_type": "code",
        "colab": {}
      },
      "source": [
        "def Normalize(rows, cols, subrows, subcols, matrix):\n",
        "  newMat = [[0 for y in range(rows*cols)] for i in range(rows*subrows)]\n",
        "  for i in range(rows):\n",
        "    for j in range(cols):\n",
        "      for x in range(subrows):\n",
        "        for y in range(subcols):\n",
        "          newMat[i*subrows+x][j * subcols + y] = matrix[i][j][x,y]\n",
        "  return newMat\n"
      ],
      "execution_count": null,
      "outputs": []
    },
    {
      "cell_type": "code",
      "metadata": {
        "id": "i2URL2u8EpFJ",
        "colab_type": "code",
        "colab": {
          "base_uri": "https://localhost:8080/",
          "height": 170
        },
        "outputId": "7e18c79f-390e-4812-b0f8-a365f8a367fa"
      },
      "source": [
        "p = 3\n",
        "s = 4\n",
        "n = 12\n",
        "k = int(n/p)\n",
        "\n",
        "T = [[1,4,3,1],\n",
        "     [3,2,4,3],\n",
        "     [1,2,4,2],\n",
        "     [3,2,4,1],\n",
        "     [3,1,2,3],\n",
        "     [4,3,2,1],\n",
        "     [4,2,4,2],\n",
        "     [3,3,1,2],\n",
        "     [2,1,4,3],\n",
        "     [2,2,2,1],\n",
        "     [3,4,2,1],\n",
        "     [4,2,3,1]]\n",
        "\n",
        "submatrices = [np.matrix([]) for y in range(k)]\n",
        "for i in range(k):\n",
        "  submatrices[i] = np.matrix(T[i*p:p*(i+1)])\n",
        "print(submatrices)"
      ],
      "execution_count": null,
      "outputs": [
        {
          "output_type": "stream",
          "text": [
            "[matrix([[1, 4, 3, 1],\n",
            "        [3, 2, 4, 3],\n",
            "        [1, 2, 4, 2]]), matrix([[3, 2, 4, 1],\n",
            "        [3, 1, 2, 3],\n",
            "        [4, 3, 2, 1]]), matrix([[4, 2, 4, 2],\n",
            "        [3, 3, 1, 2],\n",
            "        [2, 1, 4, 3]]), matrix([[2, 2, 2, 1],\n",
            "        [3, 4, 2, 1],\n",
            "        [4, 2, 3, 1]])]\n"
          ],
          "name": "stdout"
        }
      ]
    },
    {
      "cell_type": "code",
      "metadata": {
        "id": "KzArh8CnIZXr",
        "colab_type": "code",
        "colab": {
          "base_uri": "https://localhost:8080/",
          "height": 238
        },
        "outputId": "65570fbd-e0bc-4504-89c8-7123578ca082"
      },
      "source": [
        "Tm = [[np.matrix([[0 for y in range(s)]for x in range(p)]) for j in range(k)] for i in range(k)]\n",
        "for i in range(k):\n",
        "  for j in range(k-i):\n",
        "    Tm[j][i]=(submatrices[j+i])\n",
        "\n",
        "print(np.matrix(Normalize(k,k,p,s,Tm)))\n",
        "graphMatrix = TransToGraphMatrix(k*p, k*s, np.matrix(Normalize(k,k,p,s,Tm)))\n",
        "print(Dijkstra(k*p*k*s, 0, graphMatrix)[k*p*k*s-1])"
      ],
      "execution_count": null,
      "outputs": [
        {
          "output_type": "stream",
          "text": [
            "[[1 4 3 1 3 2 4 1 4 2 4 2 2 2 2 1]\n",
            " [3 2 4 3 3 1 2 3 3 3 1 2 3 4 2 1]\n",
            " [1 2 4 2 4 3 2 1 2 1 4 3 4 2 3 1]\n",
            " [3 2 4 1 4 2 4 2 2 2 2 1 0 0 0 0]\n",
            " [3 1 2 3 3 3 1 2 3 4 2 1 0 0 0 0]\n",
            " [4 3 2 1 2 1 4 3 4 2 3 1 0 0 0 0]\n",
            " [4 2 4 2 2 2 2 1 0 0 0 0 0 0 0 0]\n",
            " [3 3 1 2 3 4 2 1 0 0 0 0 0 0 0 0]\n",
            " [2 1 4 3 4 2 3 1 0 0 0 0 0 0 0 0]\n",
            " [2 2 2 1 0 0 0 0 0 0 0 0 0 0 0 0]\n",
            " [3 4 2 1 0 0 0 0 0 0 0 0 0 0 0 0]\n",
            " [4 2 3 1 0 0 0 0 0 0 0 0 0 0 0 0]]\n",
            "49\n"
          ],
          "name": "stdout"
        }
      ]
    },
    {
      "cell_type": "code",
      "metadata": {
        "id": "vl_6Vp13YVGN",
        "colab_type": "code",
        "colab": {
          "base_uri": "https://localhost:8080/",
          "height": 894
        },
        "outputId": "fc2770d5-26e3-4541-e731-0405a7fb6f10"
      },
      "source": [
        "import matplotlib.pyplot as plt \n",
        "  \n",
        "fig, gnt = plt.subplots(1,1,figsize=(15,15))  \n",
        "gnt.set_ylim(0, 50) \n",
        "  \n",
        "\n",
        "gnt.set_xlim(0, 70) \n",
        "  \n",
        "gnt.set_xlabel('seconds since start') \n",
        "gnt.set_ylabel('Processor') \n",
        "gnt.set_xticks([y for y in range(70)][::2]) \n",
        "gnt.set_yticks([15, 25, 35]) \n",
        "\n",
        "gnt.set_yticklabels(['1', '2', '3']) \n",
        "  \n",
        "gnt.grid(True) \n",
        "\n",
        "gnt.broken_barh([(0, 1), (1, 4) ,(5, 3), (8,1)], (14, 3), \n",
        "                         facecolors ='tab:blue') \n",
        "\n",
        "gnt.broken_barh([(1, 0.1),(5, 0.1),(8, 0.1),(9, 0.1)], (13, 5), \n",
        "                         facecolors ='tab:green') \n",
        "\n",
        "gnt.broken_barh([(1, 3), (5, 2), (8, 4), (11, 3)], (24, 3), \n",
        "                                  facecolors =('tab:red'))\n",
        "gnt.broken_barh([(4, 0.1),(7, 0.1),(11, 0.1),(14, 0.1)], (23, 5), \n",
        "                         facecolors ='tab:green') \n",
        "\n",
        "gnt.broken_barh([(4, 1),(7,2),(11,4),(15,2)], (34, 3), facecolors =('tab:orange')) \n",
        "gnt.broken_barh([(5, 0.1), (9,0.1),(15,0.1),(17,0.1)], (34, 5), \n",
        "                         facecolors ='tab:green') \n",
        "gnt.broken_barh([(17, 0.3)], (0, 60), \n",
        "                         facecolors ='tab:green') \n",
        "  \n",
        "gnt.broken_barh([(17, 3), (20, 2) ,(22, 4), (26,1)], (14, 3), \n",
        "                         facecolors ='tab:blue') \n",
        "gnt.broken_barh([(20, 0.2),(22, 0.2),(26, 0.2),(27, 0.1)], (13, 5), \n",
        "                         facecolors ='tab:green') \n",
        "\n",
        "gnt.broken_barh([(20, 3),(23,1),(26,2),(28,3)], (24, 3), \n",
        "                                  facecolors =('tab:red'))\n",
        "gnt.broken_barh([(23, 0.1),(24,0.2),(28,0.2),(31,0.2)], (23, 5), \n",
        "                         facecolors ='tab:green') \n",
        "gnt.broken_barh([(23, 4),(27,3),(30,2),(32,1)], (34, 3), facecolors =('tab:orange')) \n",
        "gnt.broken_barh([(27, 0.1), (30,0.2),(32,0.2),(33,0.2)], (34, 5), \n",
        "                         facecolors ='tab:green') \n",
        "\n",
        "gnt.broken_barh([(33, 0.2)], (0, 60), \n",
        "                         facecolors ='tab:green')\n",
        "\n",
        "\n",
        "gnt.broken_barh([(33, 4), (37, 2) ,(39, 4), (43,2)], (14, 3), \n",
        "                         facecolors ='tab:blue') \n",
        "gnt.broken_barh([(37, 0.2),(39, 0.2),(43, 0.2),(45, 0.1)], (13, 5), \n",
        "                         facecolors ='tab:green') \n",
        "\n",
        "gnt.broken_barh([(37, 3),(40,3),(43,1),(45,2)], (24, 3), \n",
        "                                  facecolors =('tab:red'))\n",
        "gnt.broken_barh([(40, 0.2),(43,0.2),(44,0.2),(47,0.2)], (23, 5), \n",
        "                         facecolors ='tab:green') \n",
        "gnt.broken_barh([(40, 2),(43,1),(44,4),(48,3)], (34, 3), facecolors =('tab:orange')) \n",
        "gnt.broken_barh([(42, 0.2), (44,0.2),(48,0.2),(51,0.2)], (34, 5), \n",
        "                         facecolors ='tab:green') \n",
        "\n",
        "gnt.broken_barh([(51, 0.2)], (0, 60), \n",
        "                         facecolors ='tab:green')\n",
        "\n",
        "\n",
        "gnt.broken_barh([(51, 2), (53, 2) ,(55, 2), (57,1)], (14, 3), \n",
        "                         facecolors ='tab:blue') \n",
        "gnt.broken_barh([(53, 0.2),(55, 0.2),(57, 0.2),(58, 0.2)], (13, 5), \n",
        "                         facecolors ='tab:green') \n",
        "\n",
        "gnt.broken_barh([(53, 3),(56,4),(60,2),(62,1)], (24, 3), \n",
        "                                  facecolors =('tab:red'))\n",
        "gnt.broken_barh([(56, 0.2),(60,0.2),(62,0.2),(63,0.2)], (23, 5), \n",
        "                         facecolors ='tab:green') \n",
        "gnt.broken_barh([(56, 4),(60,2),(62,3),(65,1)], (34, 3), facecolors =('tab:orange')) \n",
        "gnt.broken_barh([(60, 0.2), (62,0.2),(65,0.2),(66,0.2)], (34, 5), \n",
        "                         facecolors ='tab:green') \n",
        "\n",
        "  \n"
      ],
      "execution_count": null,
      "outputs": [
        {
          "output_type": "execute_result",
          "data": {
            "text/plain": [
              "<matplotlib.collections.BrokenBarHCollection at 0x7fe9ea7f6ef0>"
            ]
          },
          "metadata": {
            "tags": []
          },
          "execution_count": 418
        },
        {
          "output_type": "display_data",
          "data": {
            "image/png": "[encoded data removed]",
            "text/plain": [
              "<Figure size 1080x1080 with 1 Axes>"
            ]
          },
          "metadata": {
            "tags": [],
            "needs_background": "light"
          }
        }
      ]
    },
    {
      "cell_type": "code",
      "metadata": {
        "id": "CGVEYexJhdJv",
        "colab_type": "code",
        "colab": {
          "base_uri": "https://localhost:8080/",
          "height": 894
        },
        "outputId": "04d710f7-7372-4a75-b482-6f773378cebe"
      },
      "source": [
        "fig, gnt = plt.subplots(1,1,figsize=(15,15))  \n",
        "gnt.set_ylim(0, 50) \n",
        "  \n",
        "\n",
        "gnt.set_xlim(0, 70) \n",
        "  \n",
        "gnt.set_xlabel('seconds since start') \n",
        "gnt.set_ylabel('Processor') \n",
        "gnt.set_xticks([y for y in range(70)][::2]) \n",
        "gnt.set_yticks([15, 25, 35]) \n",
        "\n",
        "gnt.set_yticklabels(['1', '2', '3']) \n",
        "  \n",
        "gnt.grid(True) \n",
        "\n",
        "gnt.broken_barh([(0, 1), (1, 4) ,(5, 3), (8,1)], (14, 3), \n",
        "                         facecolors ='tab:blue') \n",
        "\n",
        "gnt.broken_barh([(1, 0.1),(5, 0.1),(8, 0.1),(9, 0.1)], (13, 5), \n",
        "                         facecolors ='tab:green') \n",
        "\n",
        "gnt.broken_barh([(1, 3), (5, 2), (8, 4), (11, 3)], (24, 3), \n",
        "                                  facecolors =('tab:red'))\n",
        "gnt.broken_barh([(4, 0.1),(7, 0.1),(11, 0.1),(14, 0.1)], (23, 5), \n",
        "                         facecolors ='tab:green') \n",
        "\n",
        "gnt.broken_barh([(4, 1),(7,2),(11,4),(15,2)], (34, 3), facecolors =('tab:orange')) \n",
        "gnt.broken_barh([(5, 0.1), (9,0.1),(15,0.1),(17,0.1)], (34, 5), \n",
        "                         facecolors ='tab:green') \n",
        "gnt.broken_barh([(17, 0.3)], (0, 60), \n",
        "                         facecolors ='tab:green') \n",
        "  \n",
        "\n",
        "\n",
        "\n",
        "gnt.broken_barh([(11, 3), (14, 2) ,(16, 4), (20,1)], (14, 3), \n",
        "                         facecolors ='tab:blue') \n",
        "gnt.broken_barh([(14, 0.2),(16, 0.2),(20, 0.2),(21, 0.1)], (13, 5), \n",
        "                         facecolors ='tab:green') \n",
        "\n",
        "gnt.broken_barh([(14, 3),(17,1),(20,2),(22,3)], (24, 3), \n",
        "                                  facecolors =('tab:red'))\n",
        "gnt.broken_barh([(17, 0.1),(18,0.2),(22,0.2),(25,0.2)], (23, 5), \n",
        "                         facecolors ='tab:green') \n",
        "gnt.broken_barh([(17, 4),(21,3),(24,2),(26,1)], (34, 3), facecolors =('tab:orange')) \n",
        "gnt.broken_barh([(21, 0.1), (24,0.2),(26,0.2),(27,0.2)], (34, 5), \n",
        "                         facecolors ='tab:green') \n",
        "\n",
        "gnt.broken_barh([(27, 0.2)], (0, 60), \n",
        "                         facecolors ='tab:green')\n",
        "\n",
        "\n",
        "\n",
        "\n",
        "\n",
        "gnt.broken_barh([(21, 4), (25, 2) ,(27, 4), (31,2)], (14, 3), \n",
        "                         facecolors ='tab:blue') \n",
        "gnt.broken_barh([(25, 0.2),(27, 0.2),(31, 0.2),(33, 0.1)], (13, 5), \n",
        "                         facecolors ='tab:green') \n",
        "\n",
        "gnt.broken_barh([(25, 3),(28,3),(31,1),(33,2)], (24, 3), \n",
        "                                  facecolors =('tab:red'))\n",
        "gnt.broken_barh([(28, 0.2),(31,0.2),(32,0.2),(35,0.2)], (23, 5), \n",
        "                         facecolors ='tab:green') \n",
        "gnt.broken_barh([(28, 2),(31,1),(32,4),(36,3)], (34, 3), facecolors =('tab:orange')) \n",
        "gnt.broken_barh([(28, 0.2), (32,0.2),(36,0.2),(39,0.2)], (34, 5), \n",
        "                         facecolors ='tab:green') \n",
        "\n",
        "gnt.broken_barh([(39, 0.2)], (0, 60), \n",
        "                         facecolors ='tab:green')\n",
        "\n",
        "\n",
        "\n",
        "\n",
        "\n",
        "gnt.broken_barh([(34, 2), (36, 2) ,(38, 2), (40,1)], (14, 3), \n",
        "                         facecolors ='tab:blue') \n",
        "gnt.broken_barh([(36, 0.2),(38, 0.2),(40, 0.2),(41, 0.2)], (13, 5), \n",
        "                         facecolors ='tab:green') \n",
        "\n",
        "gnt.broken_barh([(36, 3),(39,4),(43,2),(45,1)], (24, 3), \n",
        "                                  facecolors =('tab:red'))\n",
        "gnt.broken_barh([(39, 0.2),(43,0.2),(45,0.2),(46,0.2)], (23, 5), \n",
        "                         facecolors ='tab:green') \n",
        "gnt.broken_barh([(39, 4),(43,2),(45,3),(48,1)], (34, 3), facecolors =('tab:orange')) \n",
        "gnt.broken_barh([(43, 0.2), (45,0.2),(48,0.2),(49,0.2)], (34, 5), \n",
        "                         facecolors ='tab:green') "
      ],
      "execution_count": null,
      "outputs": [
        {
          "output_type": "execute_result",
          "data": {
            "text/plain": [
              "<matplotlib.collections.BrokenBarHCollection at 0x7fe9e9d77d30>"
            ]
          },
          "metadata": {
            "tags": []
          },
          "execution_count": 429
        },
        {
          "output_type": "display_data",
          "data": {
            "image/png": "[encoded data removed]",
            "text/plain": [
              "<Figure size 1080x1080 with 1 Axes>"
            ]
          },
          "metadata": {
            "tags": [],
            "needs_background": "light"
          }
        }
      ]
    }
  ]
}